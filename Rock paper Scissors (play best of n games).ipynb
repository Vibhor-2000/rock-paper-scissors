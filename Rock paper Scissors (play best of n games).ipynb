{
 "cells": [
  {
   "cell_type": "code",
   "execution_count": null,
   "metadata": {},
   "outputs": [],
   "source": [
    "import random\n",
    "import math\n",
    "def play():\n",
    "    user=input(\"whats your choice: 'r' for rock , 'p' for paper, 's' for scissor\\n\")\n",
    "    user.lower()\n",
    "    computer=random.choice(['r','s','p'])\n",
    "    if user==computer:\n",
    "        return (0,user,computer)\n",
    "    if is_win(user,computer):\n",
    "        return (1,user,computer)\n",
    "    return (-1,user,computer)\n",
    "def is_win(player,opponent):\n",
    "    if(player==\"r\" and opponent==\"s\")or(player==\"p\"and opponent==\"r\")or(player==\"s\"and opponent==\"p\"):\n",
    "        return True\n",
    "    return False\n",
    "\n",
    "def number(n):\n",
    "    player_win=0\n",
    "    computer_win=0\n",
    "    wins_necesaary=math.ceil(n/2)\n",
    "    while player_win<wins_necesaary and computer_win<wins_necesaary:\n",
    "        result,user,computer=play()\n",
    "        if result==0:\n",
    "            print(\"Its a tie.\".format(computer))\n",
    "        elif result==1:\n",
    "            player_win+=1\n",
    "            print(\"you won\".format(user,computer))\n",
    "        else:\n",
    "            computer_win+=1\n",
    "            print(\"you lost\".format(user,computer))\n",
    "    if player_win> computer_win:\n",
    "        print(\"you won the game\".format(n))\n",
    "    else:\n",
    "        print(\"you lost the game\".format(n))\n",
    "    \n",
    "if __name__==\"__main__\":\n",
    "    number(3)            \n",
    "               \n",
    "    \n",
    "               \n",
    "               \n",
    "               "
   ]
  }
 ],
 "metadata": {
  "kernelspec": {
   "display_name": "Python 3",
   "language": "python",
   "name": "python3"
  },
  "language_info": {
   "codemirror_mode": {
    "name": "ipython",
    "version": 3
   },
   "file_extension": ".py",
   "mimetype": "text/x-python",
   "name": "python",
   "nbconvert_exporter": "python",
   "pygments_lexer": "ipython3",
   "version": "3.7.6"
  }
 },
 "nbformat": 4,
 "nbformat_minor": 4
}
