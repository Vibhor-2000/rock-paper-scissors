{
 "cells": [
  {
   "cell_type": "code",
   "execution_count": 16,
   "metadata": {},
   "outputs": [
    {
     "name": "stdout",
     "output_type": "stream",
     "text": [
      "whats your choice: 'r' for rock , 'p' for paper, 's' for scissor\n",
      "r\n",
      "you won\n"
     ]
    }
   ],
   "source": [
    "import random\n",
    "def play():\n",
    "    user=input(\"whats your choice: 'r' for rock , 'p' for paper, 's' for scissor\\n\")\n",
    "    user.lower()\n",
    "    computer=random.choice(['r','s','p'])\n",
    "    if user==computer:\n",
    "        return \"Its a tie.\".format(computer)\n",
    "    if is_win(user,computer):\n",
    "        return \"you won\".format(user,computer)\n",
    "    return \"you lost\".format(user,computer)\n",
    "def is_win(player,opponent):\n",
    "    if(player==\"r\" and opponent==\"s\")or(player==\"p\"and opponent==\"r\")or(player==\"s\"and opponent==\"p\"):\n",
    "        return True\n",
    "    return False\n",
    "if __name__==\"__main__\":\n",
    "    print(play())\n",
    "\n",
    "               \n",
    "               \n",
    "    \n",
    "               \n",
    "               \n",
    "               "
   ]
  },
  {
   "cell_type": "code",
   "execution_count": null,
   "metadata": {},
   "outputs": [],
   "source": []
  }
 ],
 "metadata": {
  "kernelspec": {
   "display_name": "Python 3",
   "language": "python",
   "name": "python3"
  },
  "language_info": {
   "codemirror_mode": {
    "name": "ipython",
    "version": 3
   },
   "file_extension": ".py",
   "mimetype": "text/x-python",
   "name": "python",
   "nbconvert_exporter": "python",
   "pygments_lexer": "ipython3",
   "version": "3.7.6"
  }
 },
 "nbformat": 4,
 "nbformat_minor": 4
}
